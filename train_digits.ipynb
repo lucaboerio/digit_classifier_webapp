{
  "nbformat": 4,
  "nbformat_minor": 0,
  "metadata": {
    "colab": {
      "provenance": []
    },
    "kernelspec": {
      "name": "python3",
      "display_name": "Python 3"
    },
    "language_info": {
      "name": "python"
    }
  },
  "cells": [
    {
      "cell_type": "code",
      "execution_count": null,
      "metadata": {
        "id": "SRXm-NcWYVLX"
      },
      "outputs": [],
      "source": [
        "from PIL import Image\n",
        "import torch\n",
        "import torch.nn as nn\n",
        "import torch.optim as optim\n",
        "import torch.nn.functional as F\n",
        "import matplotlib.pyplot as plt\n",
        "import numpy as np\n",
        "\n",
        "import torch\n",
        "from torchvision import datasets, transforms\n",
        "from torch.utils.data import DataLoader, random_split"
      ]
    },
    {
      "cell_type": "code",
      "source": [
        "# Neural Network Model Definition\n",
        "class DigitClassifier(nn.Module):\n",
        "    def __init__(self):\n",
        "        super(DigitClassifier, self).__init__()\n",
        "        self.conv1 = nn.Conv2d(1, 32, 3)\n",
        "        self.conv2 = nn.Conv2d(32, 64, 3)\n",
        "        self.fc1 = nn.Linear(64 * 5 * 5, 128)\n",
        "        self.fc2 = nn.Linear(128, 10)\n",
        "\n",
        "    def forward(self, x):\n",
        "        x = F.relu(F.max_pool2d(self.conv1(x), 2))\n",
        "        x = F.relu(F.max_pool2d(self.conv2(x), 2))\n",
        "        x = x.view(-1, 64 * 5 * 5)\n",
        "        x = F.relu(self.fc1(x))\n",
        "        x = self.fc2(x)\n",
        "        return F.log_softmax(x, dim=1)\n",
        "\n",
        "# Definisci una trasformazione per convertire le immagini in tensori PyTorch\n",
        "transform = transforms.Compose([transforms.ToTensor(), transforms.Normalize((0.1307,), (0.3081,))])\n",
        "\n",
        "# Scarica il dataset di training e di test di MNIST\n",
        "train_dataset = datasets.MNIST('./data', train=True, download=True, transform=transform)\n",
        "test_dataset = datasets.MNIST('./data', train=False, transform=transform)\n",
        "\n",
        "# Definisci la dimensione del validation set\n",
        "validation_size = 5000\n",
        "\n",
        "# Dividi il dataset di training\n",
        "train_dataset, validation_dataset = random_split(train_dataset, [len(train_dataset) - validation_size, validation_size])"
      ],
      "metadata": {
        "colab": {
          "base_uri": "https://localhost:8080/"
        },
        "id": "FMocQ9L4Y2Tu",
        "outputId": "78cb02ae-4a9a-44ed-c65c-d6bcf8aa3aa9"
      },
      "execution_count": null,
      "outputs": [
        {
          "output_type": "stream",
          "name": "stderr",
          "text": [
            "100%|██████████| 9.91M/9.91M [00:00<00:00, 21.9MB/s]\n",
            "100%|██████████| 28.9k/28.9k [00:00<00:00, 611kB/s]\n",
            "100%|██████████| 1.65M/1.65M [00:00<00:00, 5.64MB/s]\n",
            "100%|██████████| 4.54k/4.54k [00:00<00:00, 4.78MB/s]\n"
          ]
        }
      ]
    },
    {
      "cell_type": "code",
      "source": [
        "plt.imshow(train_dataset[0][0][0], cmap='gray')"
      ],
      "metadata": {
        "colab": {
          "base_uri": "https://localhost:8080/",
          "height": 447
        },
        "id": "hdxU1Pg3azgL",
        "outputId": "13c36a69-762e-415c-c719-7506d447f585"
      },
      "execution_count": null,
      "outputs": [
        {
          "output_type": "execute_result",
          "data": {
            "text/plain": [
              "<matplotlib.image.AxesImage at 0x7b35e29bc750>"
            ]
          },
          "metadata": {},
          "execution_count": 8
        },
        {
          "output_type": "display_data",
          "data": {
            "text/plain": [
              "<Figure size 640x480 with 1 Axes>"
            ],
            "image/png": "[encoded data removed]"
          },
          "metadata": {}
        }
      ]
    },
    {
      "cell_type": "code",
      "source": [
        "# Crea i DataLoader per i dataset di training, validation e test\n",
        "train_loader = DataLoader(train_dataset, batch_size=64, shuffle=True)\n",
        "validation_loader = DataLoader(validation_dataset, batch_size=64, shuffle=False)\n",
        "test_loader = DataLoader(test_dataset, batch_size=64, shuffle=False)\n",
        "\n",
        "# Crea un'istanza del modello, dell'ottimizzatore e della funzione di perdita\n",
        "model = DigitClassifier()\n",
        "optimizer = optim.Adam(model.parameters(), lr=0.001)\n",
        "criterion = nn.NLLLoss()\n",
        "\n",
        "# Definisci il numero di epoche\n",
        "epochs = 4\n",
        "\n",
        "# Ciclo di training\n",
        "for epoch in range(epochs):\n",
        "    # Fase di training\n",
        "    model.train()\n",
        "    for batch_idx, (data, target) in enumerate(train_loader):\n",
        "        optimizer.zero_grad()\n",
        "        output = model(data)\n",
        "        loss = criterion(output, target)\n",
        "        loss.backward()\n",
        "        optimizer.step()\n",
        "        if batch_idx % 100 == 0:\n",
        "            print('Train Epoch: {} [{}/{} ({:.0f}%)]\\tLoss: {:.6f}'.format(\n",
        "                epoch + 1, batch_idx * len(data), len(train_loader.dataset),\n",
        "                100. * batch_idx / len(train_loader), loss.item()))\n",
        "\n",
        "    # Fase di validation\n",
        "    model.eval()\n",
        "    validation_loss = 0\n",
        "    correct = 0\n",
        "    with torch.no_grad():\n",
        "        for data, target in validation_loader:\n",
        "            output = model(data)\n",
        "            validation_loss += criterion(output, target).item()  # sum up batch loss\n",
        "            pred = output.argmax(dim=1, keepdim=True)  # get the index of the max log-probability\n",
        "            correct += pred.eq(target.view_as(pred)).sum().item()\n",
        "\n",
        "    validation_loss /= len(validation_loader.dataset)\n",
        "\n",
        "    print('\\nValidation set: Average loss: {:.4f}, Accuracy: {}/{} ({:.0f}%)\\n'.format(\n",
        "        validation_loss, correct, len(validation_loader.dataset),\n",
        "        100. * correct / len(validation_loader.dataset)))\n",
        "\n",
        "# Fase di test (eseguila dopo il training)\n",
        "model.eval()\n",
        "test_loss = 0\n",
        "correct = 0\n",
        "with torch.no_grad():\n",
        "    for data, target in test_loader:\n",
        "        output = model(data)\n",
        "        test_loss += criterion(output, target).item()  # sum up batch loss\n",
        "        pred = output.argmax(dim=1, keepdim=True)  # get the index of the max log-probability\n",
        "        correct += pred.eq(target.view_as(pred)).sum().item()\n",
        "\n",
        "test_loss /= len(test_loader.dataset)\n",
        "\n",
        "print('\\nTest set: Average loss: {:.4f}, Accuracy: {}/{} ({:.0f}%)\\n'.format(\n",
        "    test_loss, correct, len(test_loader.dataset),\n",
        "    100. * correct / len(test_loader.dataset)))\n"
      ],
      "metadata": {
        "colab": {
          "base_uri": "https://localhost:8080/"
        },
        "id": "oCxBRKjRbGpu",
        "outputId": "6fbe152d-4a48-4bee-ff1a-3d3a1d8e948f"
      },
      "execution_count": null,
      "outputs": [
        {
          "output_type": "stream",
          "name": "stdout",
          "text": [
            "Train Epoch: 1 [0/55000 (0%)]\tLoss: 2.313584\n",
            "Train Epoch: 1 [6400/55000 (12%)]\tLoss: 0.158748\n",
            "Train Epoch: 1 [12800/55000 (23%)]\tLoss: 0.089268\n",
            "Train Epoch: 1 [19200/55000 (35%)]\tLoss: 0.116722\n",
            "Train Epoch: 1 [25600/55000 (47%)]\tLoss: 0.045916\n",
            "Train Epoch: 1 [32000/55000 (58%)]\tLoss: 0.199902\n",
            "Train Epoch: 1 [38400/55000 (70%)]\tLoss: 0.040724\n",
            "Train Epoch: 1 [44800/55000 (81%)]\tLoss: 0.073487\n",
            "Train Epoch: 1 [51200/55000 (93%)]\tLoss: 0.017801\n",
            "\n",
            "Validation set: Average loss: 0.0011, Accuracy: 4891/5000 (98%)\n",
            "\n",
            "Train Epoch: 2 [0/55000 (0%)]\tLoss: 0.025259\n",
            "Train Epoch: 2 [6400/55000 (12%)]\tLoss: 0.014899\n",
            "Train Epoch: 2 [12800/55000 (23%)]\tLoss: 0.025683\n",
            "Train Epoch: 2 [19200/55000 (35%)]\tLoss: 0.023269\n",
            "Train Epoch: 2 [25600/55000 (47%)]\tLoss: 0.012104\n",
            "Train Epoch: 2 [32000/55000 (58%)]\tLoss: 0.097596\n",
            "Train Epoch: 2 [38400/55000 (70%)]\tLoss: 0.083867\n",
            "Train Epoch: 2 [44800/55000 (81%)]\tLoss: 0.023172\n",
            "Train Epoch: 2 [51200/55000 (93%)]\tLoss: 0.017209\n",
            "\n",
            "Validation set: Average loss: 0.0006, Accuracy: 4936/5000 (99%)\n",
            "\n",
            "Train Epoch: 3 [0/55000 (0%)]\tLoss: 0.059300\n",
            "Train Epoch: 3 [6400/55000 (12%)]\tLoss: 0.023935\n",
            "Train Epoch: 3 [12800/55000 (23%)]\tLoss: 0.161410\n",
            "Train Epoch: 3 [19200/55000 (35%)]\tLoss: 0.005425\n",
            "Train Epoch: 3 [25600/55000 (47%)]\tLoss: 0.076562\n",
            "Train Epoch: 3 [32000/55000 (58%)]\tLoss: 0.187528\n",
            "Train Epoch: 3 [38400/55000 (70%)]\tLoss: 0.060991\n",
            "Train Epoch: 3 [44800/55000 (81%)]\tLoss: 0.004605\n",
            "Train Epoch: 3 [51200/55000 (93%)]\tLoss: 0.003435\n",
            "\n",
            "Validation set: Average loss: 0.0007, Accuracy: 4938/5000 (99%)\n",
            "\n",
            "Train Epoch: 4 [0/55000 (0%)]\tLoss: 0.013952\n",
            "Train Epoch: 4 [6400/55000 (12%)]\tLoss: 0.002300\n",
            "Train Epoch: 4 [12800/55000 (23%)]\tLoss: 0.007534\n",
            "Train Epoch: 4 [19200/55000 (35%)]\tLoss: 0.003651\n",
            "Train Epoch: 4 [25600/55000 (47%)]\tLoss: 0.002748\n",
            "Train Epoch: 4 [32000/55000 (58%)]\tLoss: 0.020936\n",
            "Train Epoch: 4 [38400/55000 (70%)]\tLoss: 0.013951\n",
            "Train Epoch: 4 [44800/55000 (81%)]\tLoss: 0.027763\n",
            "Train Epoch: 4 [51200/55000 (93%)]\tLoss: 0.004968\n",
            "\n",
            "Validation set: Average loss: 0.0006, Accuracy: 4949/5000 (99%)\n",
            "\n",
            "\n",
            "Test set: Average loss: 0.0005, Accuracy: 9898/10000 (99%)\n",
            "\n"
          ]
        }
      ]
    },
    {
      "cell_type": "code",
      "source": [
        "torch.save(model.state_dict(), 'mnist_model.pth')\n"
      ],
      "metadata": {
        "id": "qTffLqpDejEa"
      },
      "execution_count": null,
      "outputs": []
    },
    {
      "cell_type": "code",
      "source": [
        "model.eval()\n",
        "n = np.random.randint(0, len(test_dataset))\n",
        "plt.imshow(test_dataset[n][0][0], cmap='gray')\n",
        "out = model(test_dataset[n][0])[0].detach()\n",
        "v = torch.arange(len(out))\n",
        "print((torch.max(out) == out)*v)\n",
        "print(test_dataset[n][1])"
      ],
      "metadata": {
        "colab": {
          "base_uri": "https://localhost:8080/",
          "height": 464
        },
        "id": "z8etN7Ztg7I-",
        "outputId": "4e1d00de-3960-4423-f916-2760fbcdfa54"
      },
      "execution_count": null,
      "outputs": [
        {
          "output_type": "stream",
          "name": "stdout",
          "text": [
            "tensor([0, 0, 0, 0, 0, 0, 6, 0, 0, 0])\n",
            "6\n"
          ]
        },
        {
          "output_type": "display_data",
          "data": {
            "text/plain": [
              "<Figure size 640x480 with 1 Axes>"
            ],
            "image/png": "[encoded data removed]"
          },
          "metadata": {}
        }
      ]
    }
  ]
}